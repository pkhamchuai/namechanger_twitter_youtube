{
  "nbformat": 4,
  "nbformat_minor": 0,
  "metadata": {
    "colab": {
      "name": "namechanger_tw_yt.ipynb",
      "provenance": [],
      "collapsed_sections": [],
      "authorship_tag": "ABX9TyNF1tq8gZVu0okbJN3o3cNO",
      "include_colab_link": true
    },
    "kernelspec": {
      "name": "python3",
      "display_name": "Python 3"
    }
  },
  "cells": [
    {
      "cell_type": "markdown",
      "metadata": {
        "id": "view-in-github",
        "colab_type": "text"
      },
      "source": [
        "<a href=\"https://colab.research.google.com/github/pkhamchuai/namechanger_twitter_youtube/blob/main/namechanger_tw_yt.ipynb\" target=\"_parent\"><img src=\"https://colab.research.google.com/assets/colab-badge.svg\" alt=\"Open In Colab\"/></a>"
      ]
    },
    {
      "cell_type": "markdown",
      "metadata": {
        "id": "RAe9j8_CTEtH"
      },
      "source": [
        "**This is the twitter name changer according to view count of a youtube video.** This version of code works in colab. I made another version that doesn't need to get the channel information, but it doesn't run in colab, only runs in my local computer.\n",
        "## References\n",
        "*   How to create a Twitter app using Python [here](https://www.digitalocean.com/community/tutorials/how-to-create-a-twitter-app-with-python)\n",
        "*   Source for Twitter name changer app [here](https://github.com/raghavkhanna30/twitter-auto-name-changer)\n",
        "*   Source for extracting view count of a Youtube video [here](https://www.presentslide.in/2019/09/extracting-youtube-data-api-python.html) [github](https://github.com/sainivarsha97/youTubeApi_Tutorial)\n"
      ]
    },
    {
      "cell_type": "code",
      "metadata": {
        "id": "5gRkJVI8HznH"
      },
      "source": [
        "import tweepy\n",
        "import logging\n",
        "import time\n",
        "from googleapiclient.discovery import build\n",
        "\n",
        "logging.basicConfig(level=logging.INFO)\n",
        "logger = logging.getLogger()\n",
        "# logger.propagate = True\n",
        "\n",
        "youTubeApiKey='your Youtube API key'  # put in your API key here\n",
        "youtube=build('youtube','v3', developerKey=youTubeApiKey)\n",
        "channelId='UClIsaGq7vBEW00ASqwQyzPw'  # BNK48 channel"
      ],
      "execution_count": null,
      "outputs": []
    },
    {
      "cell_type": "code",
      "metadata": {
        "id": "1N1WrFCJIMgY"
      },
      "source": [
        "def create_api():\n",
        "    consumer_key = 'REPLACE_YOUR_KEY'         # your twitter developer key\n",
        "    consumer_secret = 'REPLACE_YOUR_KEY'      # your twitter developer secret\n",
        "    access_token = 'REPLACE_YOUR_KEY'         # your twitter app access token\n",
        "    access_token_secret = 'REPLACE_YOUR_KEY'  # your twitter app access token secret\n",
        "\n",
        "    auth = tweepy.OAuthHandler(consumer_key, consumer_secret)\n",
        "    auth.set_access_token(access_token, access_token_secret)\n",
        "    api = tweepy.API(auth, wait_on_rate_limit=True,\n",
        "                     wait_on_rate_limit_notify=True)\n",
        "    try:\n",
        "        api.verify_credentials()\n",
        "    except Exception as e:\n",
        "        logger.error('Error creating API', exc_info=True)\n",
        "        raise e\n",
        "    logger.info('API created')\n",
        "    return api"
      ],
      "execution_count": null,
      "outputs": []
    },
    {
      "cell_type": "code",
      "metadata": {
        "id": "q9c4Ay2iI-F6"
      },
      "source": [
        "def get_video_info():\n",
        "    # get viewcount of your desired video\n",
        "    contentdata=youtube.channels().list(id=channelId,part='contentDetails').execute()\n",
        "    playlist_id = contentdata['items'][0]['contentDetails']['relatedPlaylists']['uploads']\n",
        "    videos = []\n",
        "    next_page_token = None\n",
        "\n",
        "    while 1:\n",
        "        res = youtube.playlistItems().list(playlistId=playlist_id, \n",
        "                                        part='snippet', \n",
        "                                        maxResults=50,\n",
        "                                        pageToken=next_page_token).execute()\n",
        "        videos += res['items']\n",
        "        next_page_token = res.get('nextPageToken')\n",
        "\n",
        "        if next_page_token is None:\n",
        "            break\n",
        "    video_ids = list(map(lambda x:x['snippet']['resourceId']['videoId'], videos))\n",
        "    stats = []\n",
        "    for i in range(0, len(video_ids), 40):\n",
        "        res = (youtube).videos().list(id=','.join(video_ids[i:i+40]),part='statistics').execute()\n",
        "        stats += res['items']\n",
        "    for i in range(0, len(video_ids)):\n",
        "        if video_ids[i] == 'Ek8itihPQgE': # TODO: insert youtube  video ID (โดดดิด่ง)\n",
        "            result = int((stats[i])['statistics']['viewCount'])\n",
        "    return result\n",
        "\n",
        "\n",
        "def validate_count(user):\n",
        "    # update string split if you don't use this naming format for twitter profile:\n",
        "    # 'your_twitter_name: {viewcount:,} views'\n",
        "    current_count = user.name.replace(':', ' ').split()\n",
        "    return current_count\n"
      ],
      "execution_count": null,
      "outputs": []
    },
    {
      "cell_type": "code",
      "metadata": {
        "id": "sZgmlC5dJI_p"
      },
      "source": [
        "# this cell will stay running\n",
        "api = create_api()\n",
        "\n",
        "while True:\n",
        "    # change to your own twitter handle (@something),\n",
        "    # the one you registered as developer with\n",
        "    user = api.get_user('your_handle')\n",
        "    viewcount = get_video_info()\n",
        "    if validate_count(user) == viewcount:\n",
        "        logger.info(\n",
        "            f'Viewcount stays the same, no update necessary: {validate_count(user)} -> {viewcount}')\n",
        "    else:\n",
        "        logger.info(\n",
        "            f'Viewcount has changed, updating twitter profile: {validate_count(user)} -> {viewcount:,}')\n",
        "        # Updating your twitter profile with your name including the view count\n",
        "        api.update_profile(\n",
        "            name=f'your_twitter_name: {viewcount:,} views')\n",
        "\n",
        "    logger.info(\"Waiting to refresh..\")\n",
        "    time.sleep(60 * 15) # update every 15 minutes\n"
      ],
      "execution_count": null,
      "outputs": []
    }
  ]
}